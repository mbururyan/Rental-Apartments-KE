{
 "cells": [
  {
   "cell_type": "markdown",
   "source": [
    "# Rental Apartments in Nairobi\n",
    "\n",
    "## This is a small project that aims as getting the average prices of rent of rental apartments using sampling techniques.\n",
    "\n",
    "## Sampling technique used here is stratification sampling"
   ],
   "metadata": {}
  },
  {
   "cell_type": "code",
   "execution_count": 1,
   "source": [
    "# Importing libraries\n",
    "\n",
    "import pandas as pd\n",
    "import numpy as np\n",
    "import matplotlib.pyplot as plt\n",
    "import seaborn as sns\n",
    "\n",
    "sns.set()"
   ],
   "outputs": [],
   "metadata": {}
  },
  {
   "cell_type": "code",
   "execution_count": 2,
   "source": [
    "# Print out dataframe\n",
    "rent = pd.read_csv('clean_rent.csv')\n",
    "rent"
   ],
   "outputs": [
    {
     "output_type": "execute_result",
     "data": {
      "text/html": [
       "<div>\n",
       "<style scoped>\n",
       "    .dataframe tbody tr th:only-of-type {\n",
       "        vertical-align: middle;\n",
       "    }\n",
       "\n",
       "    .dataframe tbody tr th {\n",
       "        vertical-align: top;\n",
       "    }\n",
       "\n",
       "    .dataframe thead th {\n",
       "        text-align: right;\n",
       "    }\n",
       "</style>\n",
       "<table border=\"1\" class=\"dataframe\">\n",
       "  <thead>\n",
       "    <tr style=\"text-align: right;\">\n",
       "      <th></th>\n",
       "      <th>Unnamed: 0</th>\n",
       "      <th>Agency</th>\n",
       "      <th>Neighborhood</th>\n",
       "      <th>Price</th>\n",
       "    </tr>\n",
       "  </thead>\n",
       "  <tbody>\n",
       "    <tr>\n",
       "      <th>0</th>\n",
       "      <td>18</td>\n",
       "      <td>Kitheka Musyoka</td>\n",
       "      <td>nyali road, nyali road, Nyali Area, Nyali</td>\n",
       "      <td>12000.0</td>\n",
       "    </tr>\n",
       "    <tr>\n",
       "      <th>1</th>\n",
       "      <td>22</td>\n",
       "      <td>Kitheka Musyoka</td>\n",
       "      <td>fisharies, mtambo bamburi road, Bamburi, Kisauni</td>\n",
       "      <td>13000.0</td>\n",
       "    </tr>\n",
       "    <tr>\n",
       "      <th>2</th>\n",
       "      <td>21</td>\n",
       "      <td>Homekenya24</td>\n",
       "      <td>Ruaka, Kiambaa</td>\n",
       "      <td>13000.0</td>\n",
       "    </tr>\n",
       "    <tr>\n",
       "      <th>3</th>\n",
       "      <td>20</td>\n",
       "      <td>Estate Masters Limited</td>\n",
       "      <td>MUIRU, Ruaka, Kiambaa</td>\n",
       "      <td>13000.0</td>\n",
       "    </tr>\n",
       "    <tr>\n",
       "      <th>4</th>\n",
       "      <td>19</td>\n",
       "      <td>Real Management Services 2002Limited</td>\n",
       "      <td>Sports Road, Waiyaki Way, Westlands</td>\n",
       "      <td>13000.0</td>\n",
       "    </tr>\n",
       "    <tr>\n",
       "      <th>...</th>\n",
       "      <td>...</td>\n",
       "      <td>...</td>\n",
       "      <td>...</td>\n",
       "      <td>...</td>\n",
       "    </tr>\n",
       "    <tr>\n",
       "      <th>1843</th>\n",
       "      <td>34</td>\n",
       "      <td>Origin Homes</td>\n",
       "      <td>General Mathenge, Westlands</td>\n",
       "      <td>200000.0</td>\n",
       "    </tr>\n",
       "    <tr>\n",
       "      <th>1844</th>\n",
       "      <td>94</td>\n",
       "      <td>Westside Real Estate</td>\n",
       "      <td>Muringa Road, Kilimani, Dagoretti North</td>\n",
       "      <td>200000.0</td>\n",
       "    </tr>\n",
       "    <tr>\n",
       "      <th>1845</th>\n",
       "      <td>14</td>\n",
       "      <td>Yellow Market</td>\n",
       "      <td>Riverside Drive, Riverside, Westlands</td>\n",
       "      <td>220000.0</td>\n",
       "    </tr>\n",
       "    <tr>\n",
       "      <th>1846</th>\n",
       "      <td>158</td>\n",
       "      <td>Serene Valley Apartments</td>\n",
       "      <td>Kiambere Road, Upper Hill, Langata</td>\n",
       "      <td>240000.0</td>\n",
       "    </tr>\n",
       "    <tr>\n",
       "      <th>1847</th>\n",
       "      <td>64</td>\n",
       "      <td>Sema Estate Agents</td>\n",
       "      <td>Riverside, Westlands</td>\n",
       "      <td>280000.0</td>\n",
       "    </tr>\n",
       "  </tbody>\n",
       "</table>\n",
       "<p>1848 rows × 4 columns</p>\n",
       "</div>"
      ],
      "text/plain": [
       "      Unnamed: 0                                Agency  \\\n",
       "0             18                       Kitheka Musyoka   \n",
       "1             22                       Kitheka Musyoka   \n",
       "2             21                           Homekenya24   \n",
       "3             20                Estate Masters Limited   \n",
       "4             19  Real Management Services 2002Limited   \n",
       "...          ...                                   ...   \n",
       "1843          34                          Origin Homes   \n",
       "1844          94                  Westside Real Estate   \n",
       "1845          14                         Yellow Market   \n",
       "1846         158              Serene Valley Apartments   \n",
       "1847          64                    Sema Estate Agents   \n",
       "\n",
       "                                          Neighborhood     Price  \n",
       "0            nyali road, nyali road, Nyali Area, Nyali   12000.0  \n",
       "1     fisharies, mtambo bamburi road, Bamburi, Kisauni   13000.0  \n",
       "2                                       Ruaka, Kiambaa   13000.0  \n",
       "3                                MUIRU, Ruaka, Kiambaa   13000.0  \n",
       "4                  Sports Road, Waiyaki Way, Westlands   13000.0  \n",
       "...                                                ...       ...  \n",
       "1843                       General Mathenge, Westlands  200000.0  \n",
       "1844           Muringa Road, Kilimani, Dagoretti North  200000.0  \n",
       "1845             Riverside Drive, Riverside, Westlands  220000.0  \n",
       "1846                Kiambere Road, Upper Hill, Langata  240000.0  \n",
       "1847                              Riverside, Westlands  280000.0  \n",
       "\n",
       "[1848 rows x 4 columns]"
      ]
     },
     "metadata": {},
     "execution_count": 2
    }
   ],
   "metadata": {}
  },
  {
   "cell_type": "markdown",
   "source": [
    "### Cleaning was done on KMeans notebook, so we will go straight to sampling"
   ],
   "metadata": {}
  },
  {
   "cell_type": "markdown",
   "source": [
    "# sampling\n",
    "\n",
    "-> We will use stratification sampling"
   ],
   "metadata": {}
  },
  {
   "cell_type": "code",
   "execution_count": 14,
   "source": [
    "# Lets plot the prices without sampling to have an idea on the average prices\n",
    "plt.hist(rent['Price'], bins=10)\n",
    "plt.xlabel('Prices of Apartments')\n",
    "plt.title('Histogram on house prices')\n",
    "plt.figure(figsize=(15,10))\n",
    "plt.show()"
   ],
   "outputs": [
    {
     "output_type": "display_data",
     "data": {
      "image/png": "[encoded data removed]",
      "text/plain": [
       "<Figure size 432x288 with 1 Axes>"
      ]
     },
     "metadata": {}
    },
    {
     "output_type": "display_data",
     "data": {
      "text/plain": [
       "<Figure size 1080x720 with 0 Axes>"
      ]
     },
     "metadata": {}
    }
   ],
   "metadata": {}
  },
  {
   "cell_type": "markdown",
   "source": [
    "The average price is around 80,000-100,000 Ksh"
   ],
   "metadata": {}
  },
  {
   "cell_type": "code",
   "execution_count": 16,
   "source": [
    "# Calculate mathematically\n",
    "rent['Price'].mean()"
   ],
   "outputs": [
    {
     "output_type": "execute_result",
     "data": {
      "text/plain": [
       "97343.88149350649"
      ]
     },
     "metadata": {},
     "execution_count": 16
    }
   ],
   "metadata": {}
  },
  {
   "cell_type": "markdown",
   "source": [
    "The mean is exactly 97,340 ksh.\n",
    "\n",
    "Lets try getting this value using samples"
   ],
   "metadata": {}
  },
  {
   "cell_type": "code",
   "execution_count": 18,
   "source": [
    "# Stratified Sampling\n",
    "\n",
    "# get count of values of rent\n",
    "rent['Price'].value_counts()"
   ],
   "outputs": [
    {
     "output_type": "execute_result",
     "data": {
      "text/plain": [
       "100000.0    137\n",
       "120000.0    118\n",
       "150000.0    113\n",
       "90000.0     109\n",
       "75000.0     101\n",
       "           ... \n",
       "128000.0      1\n",
       "133000.0      1\n",
       "76000.0       1\n",
       "19000.0       1\n",
       "52500.0       1\n",
       "Name: Price, Length: 112, dtype: int64"
      ]
     },
     "metadata": {},
     "execution_count": 18
    }
   ],
   "metadata": {}
  },
  {
   "cell_type": "code",
   "execution_count": 19,
   "source": [
    "# In decimal values\n",
    "rent['Price'].value_counts(normalize=True)"
   ],
   "outputs": [
    {
     "output_type": "execute_result",
     "data": {
      "text/plain": [
       "100000.0    0.074134\n",
       "120000.0    0.063853\n",
       "150000.0    0.061147\n",
       "90000.0     0.058983\n",
       "75000.0     0.054654\n",
       "              ...   \n",
       "128000.0    0.000541\n",
       "133000.0    0.000541\n",
       "76000.0     0.000541\n",
       "19000.0     0.000541\n",
       "52500.0     0.000541\n",
       "Name: Price, Length: 112, dtype: float64"
      ]
     },
     "metadata": {},
     "execution_count": 19
    }
   ],
   "metadata": {}
  },
  {
   "cell_type": "markdown",
   "source": [
    "We will try to get stratas that match those decimal places\n",
    "\n",
    "Size of sample = 320"
   ],
   "metadata": {}
  },
  {
   "cell_type": "code",
   "execution_count": 27,
   "source": [
    "rent_sample = rent.groupby(['Price'], group_keys=False).apply(lambda grouped_subset : grouped_subset.sample(frac=0.18))\n",
    "rent_sample"
   ],
   "outputs": [
    {
     "output_type": "execute_result",
     "data": {
      "text/html": [
       "<div>\n",
       "<style scoped>\n",
       "    .dataframe tbody tr th:only-of-type {\n",
       "        vertical-align: middle;\n",
       "    }\n",
       "\n",
       "    .dataframe tbody tr th {\n",
       "        vertical-align: top;\n",
       "    }\n",
       "\n",
       "    .dataframe thead th {\n",
       "        text-align: right;\n",
       "    }\n",
       "</style>\n",
       "<table border=\"1\" class=\"dataframe\">\n",
       "  <thead>\n",
       "    <tr style=\"text-align: right;\">\n",
       "      <th></th>\n",
       "      <th>Unnamed: 0</th>\n",
       "      <th>Agency</th>\n",
       "      <th>Neighborhood</th>\n",
       "      <th>Price</th>\n",
       "    </tr>\n",
       "  </thead>\n",
       "  <tbody>\n",
       "    <tr>\n",
       "      <th>4</th>\n",
       "      <td>19</td>\n",
       "      <td>Real Management Services 2002Limited</td>\n",
       "      <td>Sports Road, Waiyaki Way, Westlands</td>\n",
       "      <td>13000.0</td>\n",
       "    </tr>\n",
       "    <tr>\n",
       "      <th>8</th>\n",
       "      <td>26</td>\n",
       "      <td>Royani Properties Limited</td>\n",
       "      <td>Kiambu Road, Kiambu Road</td>\n",
       "      <td>15000.0</td>\n",
       "    </tr>\n",
       "    <tr>\n",
       "      <th>14</th>\n",
       "      <td>36</td>\n",
       "      <td>Cfs Homes</td>\n",
       "      <td>Ruaka, Kiambaa</td>\n",
       "      <td>16000.0</td>\n",
       "    </tr>\n",
       "    <tr>\n",
       "      <th>20</th>\n",
       "      <td>40</td>\n",
       "      <td>Estate Masters Limited</td>\n",
       "      <td>Ruaka, Kiambaa</td>\n",
       "      <td>17000.0</td>\n",
       "    </tr>\n",
       "    <tr>\n",
       "      <th>23</th>\n",
       "      <td>44</td>\n",
       "      <td>Kitheka Musyoka</td>\n",
       "      <td>Bombolulu, Mombasa malindi road, Nyali Area, N...</td>\n",
       "      <td>18000.0</td>\n",
       "    </tr>\n",
       "    <tr>\n",
       "      <th>...</th>\n",
       "      <td>...</td>\n",
       "      <td>...</td>\n",
       "      <td>...</td>\n",
       "      <td>...</td>\n",
       "    </tr>\n",
       "    <tr>\n",
       "      <th>1817</th>\n",
       "      <td>1819</td>\n",
       "      <td>Buy Rent Shelters</td>\n",
       "      <td>General Mathenge, Westlands Area, Westlands</td>\n",
       "      <td>175000.0</td>\n",
       "    </tr>\n",
       "    <tr>\n",
       "      <th>1816</th>\n",
       "      <td>1822</td>\n",
       "      <td>Capstone Properties</td>\n",
       "      <td>Parklands, Westlands</td>\n",
       "      <td>175000.0</td>\n",
       "    </tr>\n",
       "    <tr>\n",
       "      <th>1840</th>\n",
       "      <td>1831</td>\n",
       "      <td>Coralinternational Ltd</td>\n",
       "      <td>Wood Avenue, Kilimani, Dagoretti North</td>\n",
       "      <td>180000.0</td>\n",
       "    </tr>\n",
       "    <tr>\n",
       "      <th>1834</th>\n",
       "      <td>1842</td>\n",
       "      <td>Origin Homes</td>\n",
       "      <td>Brookside, Westlands</td>\n",
       "      <td>180000.0</td>\n",
       "    </tr>\n",
       "    <tr>\n",
       "      <th>1838</th>\n",
       "      <td>1833</td>\n",
       "      <td>Rainbow Properties Limited</td>\n",
       "      <td>State House, Dagoretti North</td>\n",
       "      <td>180000.0</td>\n",
       "    </tr>\n",
       "  </tbody>\n",
       "</table>\n",
       "<p>321 rows × 4 columns</p>\n",
       "</div>"
      ],
      "text/plain": [
       "      Unnamed: 0                                Agency  \\\n",
       "4             19  Real Management Services 2002Limited   \n",
       "8             26             Royani Properties Limited   \n",
       "14            36                             Cfs Homes   \n",
       "20            40                Estate Masters Limited   \n",
       "23            44                       Kitheka Musyoka   \n",
       "...          ...                                   ...   \n",
       "1817        1819                     Buy Rent Shelters   \n",
       "1816        1822                   Capstone Properties   \n",
       "1840        1831                Coralinternational Ltd   \n",
       "1834        1842                          Origin Homes   \n",
       "1838        1833            Rainbow Properties Limited   \n",
       "\n",
       "                                           Neighborhood     Price  \n",
       "4                   Sports Road, Waiyaki Way, Westlands   13000.0  \n",
       "8                              Kiambu Road, Kiambu Road   15000.0  \n",
       "14                                       Ruaka, Kiambaa   16000.0  \n",
       "20                                       Ruaka, Kiambaa   17000.0  \n",
       "23    Bombolulu, Mombasa malindi road, Nyali Area, N...   18000.0  \n",
       "...                                                 ...       ...  \n",
       "1817        General Mathenge, Westlands Area, Westlands  175000.0  \n",
       "1816                               Parklands, Westlands  175000.0  \n",
       "1840             Wood Avenue, Kilimani, Dagoretti North  180000.0  \n",
       "1834                               Brookside, Westlands  180000.0  \n",
       "1838                       State House, Dagoretti North  180000.0  \n",
       "\n",
       "[321 rows x 4 columns]"
      ]
     },
     "metadata": {},
     "execution_count": 27
    }
   ],
   "metadata": {}
  },
  {
   "cell_type": "markdown",
   "source": [
    "Our sample has 321 records which is 1 record above our intended target. This will do."
   ],
   "metadata": {}
  },
  {
   "cell_type": "code",
   "execution_count": 30,
   "source": [
    "rent_sample['Price'].value_counts(normalize=True)"
   ],
   "outputs": [
    {
     "output_type": "execute_result",
     "data": {
      "text/plain": [
       "100000.0    0.077882\n",
       "120000.0    0.065421\n",
       "90000.0     0.062305\n",
       "150000.0    0.062305\n",
       "130000.0    0.056075\n",
       "75000.0     0.056075\n",
       "80000.0     0.046729\n",
       "85000.0     0.043614\n",
       "65000.0     0.043614\n",
       "110000.0    0.043614\n",
       "160000.0    0.040498\n",
       "70000.0     0.040498\n",
       "140000.0    0.034268\n",
       "60000.0     0.028037\n",
       "95000.0     0.028037\n",
       "55000.0     0.028037\n",
       "45000.0     0.021807\n",
       "170000.0    0.021807\n",
       "40000.0     0.018692\n",
       "50000.0     0.015576\n",
       "115000.0    0.015576\n",
       "35000.0     0.012461\n",
       "125000.0    0.012461\n",
       "135000.0    0.009346\n",
       "180000.0    0.009346\n",
       "30000.0     0.009346\n",
       "165000.0    0.009346\n",
       "175000.0    0.009346\n",
       "25000.0     0.006231\n",
       "38000.0     0.006231\n",
       "145000.0    0.006231\n",
       "28000.0     0.006231\n",
       "20000.0     0.006231\n",
       "105000.0    0.003115\n",
       "98000.0     0.003115\n",
       "18000.0     0.003115\n",
       "155000.0    0.003115\n",
       "13000.0     0.003115\n",
       "17000.0     0.003115\n",
       "24000.0     0.003115\n",
       "52000.0     0.003115\n",
       "88000.0     0.003115\n",
       "48000.0     0.003115\n",
       "15000.0     0.003115\n",
       "78000.0     0.003115\n",
       "22000.0     0.003115\n",
       "16000.0     0.003115\n",
       "43000.0     0.003115\n",
       "Name: Price, dtype: float64"
      ]
     },
     "metadata": {},
     "execution_count": 30
    }
   ],
   "metadata": {}
  },
  {
   "cell_type": "markdown",
   "source": [
    "# Analysis"
   ],
   "metadata": {}
  },
  {
   "cell_type": "code",
   "execution_count": 31,
   "source": [
    "# Histogram that plots the sample of house prices\n",
    "plt.hist(rent_sample['Price'], bins=10)\n",
    "plt.xlabel('Prices of Apartments')\n",
    "plt.title('Histogram on house prices')\n",
    "plt.figure(figsize=(15,10))\n",
    "plt.show()"
   ],
   "outputs": [
    {
     "output_type": "display_data",
     "data": {
      "image/png": "[encoded data removed]",
      "text/plain": [
       "<Figure size 432x288 with 1 Axes>"
      ]
     },
     "metadata": {}
    },
    {
     "output_type": "display_data",
     "data": {
      "text/plain": [
       "<Figure size 1080x720 with 0 Axes>"
      ]
     },
     "metadata": {}
    }
   ],
   "metadata": {}
  },
  {
   "cell_type": "code",
   "execution_count": 32,
   "source": [
    "rent_sample['Price'].mean()"
   ],
   "outputs": [
    {
     "output_type": "execute_result",
     "data": {
      "text/plain": [
       "97629.28348909658"
      ]
     },
     "metadata": {},
     "execution_count": 32
    }
   ],
   "metadata": {}
  },
  {
   "cell_type": "markdown",
   "source": [
    "-> The average of the sample of rental prices is 97, 630 Ksh, therefore our sample was a success!"
   ],
   "metadata": {}
  }
 ],
 "metadata": {
  "orig_nbformat": 4,
  "language_info": {
   "name": "python",
   "version": "3.8.8",
   "mimetype": "text/x-python",
   "codemirror_mode": {
    "name": "ipython",
    "version": 3
   },
   "pygments_lexer": "ipython3",
   "nbconvert_exporter": "python",
   "file_extension": ".py"
  },
  "kernelspec": {
   "name": "python3",
   "display_name": "Python 3.8.8 64-bit ('base': conda)"
  },
  "interpreter": {
   "hash": "5e33e5004145b98e8222cb2d939e6df70ade89a40d2ac6741c844fb03b1308f9"
  }
 },
 "nbformat": 4,
 "nbformat_minor": 2
}