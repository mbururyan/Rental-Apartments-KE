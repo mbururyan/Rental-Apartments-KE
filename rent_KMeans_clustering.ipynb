{
 "cells": [
  {
   "cell_type": "markdown",
   "source": [
    "# Rental Apartments in Nairobi\n",
    "\n",
    "## This is a small project that aims as getting the average prices of rent of rental apartments using sampling techniques."
   ],
   "metadata": {}
  },
  {
   "cell_type": "code",
   "execution_count": 1,
   "source": [
    "# Importing libraries\n",
    "\n",
    "import pandas as pd\n",
    "import numpy as np\n",
    "import matplotlib.pyplot as plt\n",
    "import seaborn as sns\n",
    "\n",
    "sns.set()"
   ],
   "outputs": [],
   "metadata": {}
  },
  {
   "cell_type": "markdown",
   "source": [
    "## Load in the data"
   ],
   "metadata": {}
  },
  {
   "cell_type": "code",
   "execution_count": 2,
   "source": [
    "rent = pd.read_csv('rent_apts.csv')\n",
    "rent"
   ],
   "outputs": [
    {
     "output_type": "execute_result",
     "data": {
      "text/html": [
       "<div>\n",
       "<style scoped>\n",
       "    .dataframe tbody tr th:only-of-type {\n",
       "        vertical-align: middle;\n",
       "    }\n",
       "\n",
       "    .dataframe tbody tr th {\n",
       "        vertical-align: top;\n",
       "    }\n",
       "\n",
       "    .dataframe thead th {\n",
       "        text-align: right;\n",
       "    }\n",
       "</style>\n",
       "<table border=\"1\" class=\"dataframe\">\n",
       "  <thead>\n",
       "    <tr style=\"text-align: right;\">\n",
       "      <th></th>\n",
       "      <th>Agency</th>\n",
       "      <th>Neighborhood</th>\n",
       "      <th>Price</th>\n",
       "      <th>link</th>\n",
       "      <th>sq_mtrs</th>\n",
       "      <th>Bedrooms</th>\n",
       "      <th>Bathrooms</th>\n",
       "    </tr>\n",
       "  </thead>\n",
       "  <tbody>\n",
       "    <tr>\n",
       "      <th>0</th>\n",
       "      <td>Buy Rent Shelters</td>\n",
       "      <td>General Mathenge, Westlands</td>\n",
       "      <td>KSh 155,000</td>\n",
       "      <td>/listings/4-bedroom-apartment-for-rent-general...</td>\n",
       "      <td>4.0</td>\n",
       "      <td>4.0</td>\n",
       "      <td>4.0</td>\n",
       "    </tr>\n",
       "    <tr>\n",
       "      <th>1</th>\n",
       "      <td>Kenya Classic Homes</td>\n",
       "      <td>Kilimani, Dagoretti North</td>\n",
       "      <td>KSh 100,000</td>\n",
       "      <td>/listings/3-bedroom-apartment-for-rent-kiliman...</td>\n",
       "      <td>300.0</td>\n",
       "      <td>3.0</td>\n",
       "      <td>4.0</td>\n",
       "    </tr>\n",
       "    <tr>\n",
       "      <th>2</th>\n",
       "      <td>Absolute Estate Agents</td>\n",
       "      <td>Hatheru Rd,, Lavington, Dagoretti North</td>\n",
       "      <td>KSh 75,000</td>\n",
       "      <td>/listings/3-bedroom-apartment-for-rent-lavingt...</td>\n",
       "      <td>3.0</td>\n",
       "      <td>3.0</td>\n",
       "      <td>5.0</td>\n",
       "    </tr>\n",
       "    <tr>\n",
       "      <th>3</th>\n",
       "      <td>A1 Properties Limited</td>\n",
       "      <td>Kilimani, Dagoretti North</td>\n",
       "      <td>KSh 135,000</td>\n",
       "      <td>/listings/3-bedroom-apartment-for-rent-kiliman...</td>\n",
       "      <td>227.0</td>\n",
       "      <td>3.0</td>\n",
       "      <td>4.0</td>\n",
       "    </tr>\n",
       "    <tr>\n",
       "      <th>4</th>\n",
       "      <td>Pmc Estates Limited</td>\n",
       "      <td>Imara Daima, Embakasi</td>\n",
       "      <td>KSh 50,000</td>\n",
       "      <td>/listings/3-bedroom-apartment-for-rent-imara-d...</td>\n",
       "      <td>3.0</td>\n",
       "      <td>3.0</td>\n",
       "      <td>NaN</td>\n",
       "    </tr>\n",
       "    <tr>\n",
       "      <th>...</th>\n",
       "      <td>...</td>\n",
       "      <td>...</td>\n",
       "      <td>...</td>\n",
       "      <td>...</td>\n",
       "      <td>...</td>\n",
       "      <td>...</td>\n",
       "      <td>...</td>\n",
       "    </tr>\n",
       "    <tr>\n",
       "      <th>1843</th>\n",
       "      <td>Avic International</td>\n",
       "      <td>Laikipia Road, Kileleshwa, Dagoretti North</td>\n",
       "      <td>KSh 180,000</td>\n",
       "      <td>/listings/3-bedroom-apartment-for-rent-kileles...</td>\n",
       "      <td>3.0</td>\n",
       "      <td>3.0</td>\n",
       "      <td>NaN</td>\n",
       "    </tr>\n",
       "    <tr>\n",
       "      <th>1844</th>\n",
       "      <td>Dmus Realtors</td>\n",
       "      <td>Peponi road, Spring Valley, Westlands</td>\n",
       "      <td>KSh 180,000</td>\n",
       "      <td>/listings/2-bedroom-apartment-for-rent-spring-...</td>\n",
       "      <td>2.0</td>\n",
       "      <td>2.0</td>\n",
       "      <td>2.0</td>\n",
       "    </tr>\n",
       "    <tr>\n",
       "      <th>1845</th>\n",
       "      <td>A1 Properties Limited</td>\n",
       "      <td>Kileleshwa, Dagoretti North</td>\n",
       "      <td>KSh 180,000</td>\n",
       "      <td>/listings/furnished-4-bedroom-apartment-for-re...</td>\n",
       "      <td>4.0</td>\n",
       "      <td>4.0</td>\n",
       "      <td>5.0</td>\n",
       "    </tr>\n",
       "    <tr>\n",
       "      <th>1846</th>\n",
       "      <td>Geoscape Global Limited</td>\n",
       "      <td>Westlands Area, Westlands</td>\n",
       "      <td>KSh 180,000</td>\n",
       "      <td>/listings/4-bedroom-apartment-for-rent-westlan...</td>\n",
       "      <td>4.0</td>\n",
       "      <td>4.0</td>\n",
       "      <td>4.0</td>\n",
       "    </tr>\n",
       "    <tr>\n",
       "      <th>1847</th>\n",
       "      <td>Pmc Estates Limited</td>\n",
       "      <td>Kilimani, Dagoretti North</td>\n",
       "      <td>KSh 180,000</td>\n",
       "      <td>/listings/2-bedroom-apartment-for-rent-kiliman...</td>\n",
       "      <td>2.0</td>\n",
       "      <td>2.0</td>\n",
       "      <td>NaN</td>\n",
       "    </tr>\n",
       "  </tbody>\n",
       "</table>\n",
       "<p>1848 rows × 7 columns</p>\n",
       "</div>"
      ],
      "text/plain": [
       "                       Agency                                Neighborhood  \\\n",
       "0           Buy Rent Shelters                 General Mathenge, Westlands   \n",
       "1         Kenya Classic Homes                   Kilimani, Dagoretti North   \n",
       "2      Absolute Estate Agents     Hatheru Rd,, Lavington, Dagoretti North   \n",
       "3       A1 Properties Limited                   Kilimani, Dagoretti North   \n",
       "4         Pmc Estates Limited                       Imara Daima, Embakasi   \n",
       "...                       ...                                         ...   \n",
       "1843       Avic International  Laikipia Road, Kileleshwa, Dagoretti North   \n",
       "1844            Dmus Realtors       Peponi road, Spring Valley, Westlands   \n",
       "1845    A1 Properties Limited                 Kileleshwa, Dagoretti North   \n",
       "1846  Geoscape Global Limited                   Westlands Area, Westlands   \n",
       "1847      Pmc Estates Limited                   Kilimani, Dagoretti North   \n",
       "\n",
       "            Price                                               link  sq_mtrs  \\\n",
       "0     KSh 155,000  /listings/4-bedroom-apartment-for-rent-general...      4.0   \n",
       "1     KSh 100,000  /listings/3-bedroom-apartment-for-rent-kiliman...    300.0   \n",
       "2      KSh 75,000  /listings/3-bedroom-apartment-for-rent-lavingt...      3.0   \n",
       "3     KSh 135,000  /listings/3-bedroom-apartment-for-rent-kiliman...    227.0   \n",
       "4      KSh 50,000  /listings/3-bedroom-apartment-for-rent-imara-d...      3.0   \n",
       "...           ...                                                ...      ...   \n",
       "1843  KSh 180,000  /listings/3-bedroom-apartment-for-rent-kileles...      3.0   \n",
       "1844  KSh 180,000  /listings/2-bedroom-apartment-for-rent-spring-...      2.0   \n",
       "1845  KSh 180,000  /listings/furnished-4-bedroom-apartment-for-re...      4.0   \n",
       "1846  KSh 180,000  /listings/4-bedroom-apartment-for-rent-westlan...      4.0   \n",
       "1847  KSh 180,000  /listings/2-bedroom-apartment-for-rent-kiliman...      2.0   \n",
       "\n",
       "      Bedrooms  Bathrooms  \n",
       "0          4.0        4.0  \n",
       "1          3.0        4.0  \n",
       "2          3.0        5.0  \n",
       "3          3.0        4.0  \n",
       "4          3.0        NaN  \n",
       "...        ...        ...  \n",
       "1843       3.0        NaN  \n",
       "1844       2.0        2.0  \n",
       "1845       4.0        5.0  \n",
       "1846       4.0        4.0  \n",
       "1847       2.0        NaN  \n",
       "\n",
       "[1848 rows x 7 columns]"
      ]
     },
     "metadata": {},
     "execution_count": 2
    }
   ],
   "metadata": {}
  },
  {
   "cell_type": "markdown",
   "source": [
    "# data cleaning"
   ],
   "metadata": {}
  },
  {
   "cell_type": "markdown",
   "source": [
    "## 1. Columns"
   ],
   "metadata": {}
  },
  {
   "cell_type": "code",
   "execution_count": 3,
   "source": [
    "# new df with only the data to be used\n",
    "rent = rent[['Agency', 'Neighborhood', 'Price']]\n",
    "rent.head()"
   ],
   "outputs": [
    {
     "output_type": "execute_result",
     "data": {
      "text/html": [
       "<div>\n",
       "<style scoped>\n",
       "    .dataframe tbody tr th:only-of-type {\n",
       "        vertical-align: middle;\n",
       "    }\n",
       "\n",
       "    .dataframe tbody tr th {\n",
       "        vertical-align: top;\n",
       "    }\n",
       "\n",
       "    .dataframe thead th {\n",
       "        text-align: right;\n",
       "    }\n",
       "</style>\n",
       "<table border=\"1\" class=\"dataframe\">\n",
       "  <thead>\n",
       "    <tr style=\"text-align: right;\">\n",
       "      <th></th>\n",
       "      <th>Agency</th>\n",
       "      <th>Neighborhood</th>\n",
       "      <th>Price</th>\n",
       "    </tr>\n",
       "  </thead>\n",
       "  <tbody>\n",
       "    <tr>\n",
       "      <th>0</th>\n",
       "      <td>Buy Rent Shelters</td>\n",
       "      <td>General Mathenge, Westlands</td>\n",
       "      <td>KSh 155,000</td>\n",
       "    </tr>\n",
       "    <tr>\n",
       "      <th>1</th>\n",
       "      <td>Kenya Classic Homes</td>\n",
       "      <td>Kilimani, Dagoretti North</td>\n",
       "      <td>KSh 100,000</td>\n",
       "    </tr>\n",
       "    <tr>\n",
       "      <th>2</th>\n",
       "      <td>Absolute Estate Agents</td>\n",
       "      <td>Hatheru Rd,, Lavington, Dagoretti North</td>\n",
       "      <td>KSh 75,000</td>\n",
       "    </tr>\n",
       "    <tr>\n",
       "      <th>3</th>\n",
       "      <td>A1 Properties Limited</td>\n",
       "      <td>Kilimani, Dagoretti North</td>\n",
       "      <td>KSh 135,000</td>\n",
       "    </tr>\n",
       "    <tr>\n",
       "      <th>4</th>\n",
       "      <td>Pmc Estates Limited</td>\n",
       "      <td>Imara Daima, Embakasi</td>\n",
       "      <td>KSh 50,000</td>\n",
       "    </tr>\n",
       "  </tbody>\n",
       "</table>\n",
       "</div>"
      ],
      "text/plain": [
       "                   Agency                             Neighborhood  \\\n",
       "0       Buy Rent Shelters              General Mathenge, Westlands   \n",
       "1     Kenya Classic Homes                Kilimani, Dagoretti North   \n",
       "2  Absolute Estate Agents  Hatheru Rd,, Lavington, Dagoretti North   \n",
       "3   A1 Properties Limited                Kilimani, Dagoretti North   \n",
       "4     Pmc Estates Limited                    Imara Daima, Embakasi   \n",
       "\n",
       "         Price  \n",
       "0  KSh 155,000  \n",
       "1  KSh 100,000  \n",
       "2   KSh 75,000  \n",
       "3  KSh 135,000  \n",
       "4   KSh 50,000  "
      ]
     },
     "metadata": {},
     "execution_count": 3
    }
   ],
   "metadata": {}
  },
  {
   "cell_type": "markdown",
   "source": [
    "## 2. Datatypes"
   ],
   "metadata": {}
  },
  {
   "cell_type": "code",
   "execution_count": 4,
   "source": [
    "# Check for datatypes\n",
    "rent.dtypes"
   ],
   "outputs": [
    {
     "output_type": "execute_result",
     "data": {
      "text/plain": [
       "Agency          object\n",
       "Neighborhood    object\n",
       "Price           object\n",
       "dtype: object"
      ]
     },
     "metadata": {},
     "execution_count": 4
    }
   ],
   "metadata": {}
  },
  {
   "cell_type": "code",
   "execution_count": 5,
   "source": [
    "# Replace , with blank\n",
    "rent['Price'] = rent['Price'].str.replace(',', '')"
   ],
   "outputs": [
    {
     "output_type": "stream",
     "name": "stderr",
     "text": [
      "<ipython-input-5-a88785cf0ea9>:2: SettingWithCopyWarning: \n",
      "A value is trying to be set on a copy of a slice from a DataFrame.\n",
      "Try using .loc[row_indexer,col_indexer] = value instead\n",
      "\n",
      "See the caveats in the documentation: https://pandas.pydata.org/pandas-docs/stable/user_guide/indexing.html#returning-a-view-versus-a-copy\n",
      "  rent['Price'] = rent['Price'].str.replace(',', '')\n"
     ]
    }
   ],
   "metadata": {}
  },
  {
   "cell_type": "code",
   "execution_count": 6,
   "source": [
    "# Replace Ksh with blank\n",
    "rent['Price'] = rent['Price'].str.replace('KSh', '')"
   ],
   "outputs": [
    {
     "output_type": "stream",
     "name": "stderr",
     "text": [
      "<ipython-input-6-9e9df40a41cc>:2: SettingWithCopyWarning: \n",
      "A value is trying to be set on a copy of a slice from a DataFrame.\n",
      "Try using .loc[row_indexer,col_indexer] = value instead\n",
      "\n",
      "See the caveats in the documentation: https://pandas.pydata.org/pandas-docs/stable/user_guide/indexing.html#returning-a-view-versus-a-copy\n",
      "  rent['Price'] = rent['Price'].str.replace('KSh', '')\n"
     ]
    }
   ],
   "metadata": {}
  },
  {
   "cell_type": "code",
   "execution_count": 7,
   "source": [
    "rent['Price'] = rent['Price'].astype(float)"
   ],
   "outputs": [
    {
     "output_type": "stream",
     "name": "stderr",
     "text": [
      "<ipython-input-7-9ce815aa191d>:1: SettingWithCopyWarning: \n",
      "A value is trying to be set on a copy of a slice from a DataFrame.\n",
      "Try using .loc[row_indexer,col_indexer] = value instead\n",
      "\n",
      "See the caveats in the documentation: https://pandas.pydata.org/pandas-docs/stable/user_guide/indexing.html#returning-a-view-versus-a-copy\n",
      "  rent['Price'] = rent['Price'].astype(float)\n"
     ]
    }
   ],
   "metadata": {}
  },
  {
   "cell_type": "code",
   "execution_count": 8,
   "source": [
    "# New datatypes\n",
    "rent.info()"
   ],
   "outputs": [
    {
     "output_type": "stream",
     "name": "stdout",
     "text": [
      "<class 'pandas.core.frame.DataFrame'>\n",
      "RangeIndex: 1848 entries, 0 to 1847\n",
      "Data columns (total 3 columns):\n",
      " #   Column        Non-Null Count  Dtype  \n",
      "---  ------        --------------  -----  \n",
      " 0   Agency        1848 non-null   object \n",
      " 1   Neighborhood  1848 non-null   object \n",
      " 2   Price         1848 non-null   float64\n",
      "dtypes: float64(1), object(2)\n",
      "memory usage: 43.4+ KB\n"
     ]
    }
   ],
   "metadata": {}
  },
  {
   "cell_type": "code",
   "execution_count": 9,
   "source": [
    "# Sort prices from lowest to highest\n",
    "rent = rent.sort_values('Price', ascending=True)\n",
    "rent"
   ],
   "outputs": [
    {
     "output_type": "execute_result",
     "data": {
      "text/html": [
       "<div>\n",
       "<style scoped>\n",
       "    .dataframe tbody tr th:only-of-type {\n",
       "        vertical-align: middle;\n",
       "    }\n",
       "\n",
       "    .dataframe tbody tr th {\n",
       "        vertical-align: top;\n",
       "    }\n",
       "\n",
       "    .dataframe thead th {\n",
       "        text-align: right;\n",
       "    }\n",
       "</style>\n",
       "<table border=\"1\" class=\"dataframe\">\n",
       "  <thead>\n",
       "    <tr style=\"text-align: right;\">\n",
       "      <th></th>\n",
       "      <th>Agency</th>\n",
       "      <th>Neighborhood</th>\n",
       "      <th>Price</th>\n",
       "    </tr>\n",
       "  </thead>\n",
       "  <tbody>\n",
       "    <tr>\n",
       "      <th>18</th>\n",
       "      <td>Kitheka Musyoka</td>\n",
       "      <td>nyali road, nyali road, Nyali Area, Nyali</td>\n",
       "      <td>12000.0</td>\n",
       "    </tr>\n",
       "    <tr>\n",
       "      <th>22</th>\n",
       "      <td>Kitheka Musyoka</td>\n",
       "      <td>fisharies, mtambo bamburi road, Bamburi, Kisauni</td>\n",
       "      <td>13000.0</td>\n",
       "    </tr>\n",
       "    <tr>\n",
       "      <th>21</th>\n",
       "      <td>Homekenya24</td>\n",
       "      <td>Ruaka, Kiambaa</td>\n",
       "      <td>13000.0</td>\n",
       "    </tr>\n",
       "    <tr>\n",
       "      <th>20</th>\n",
       "      <td>Estate Masters Limited</td>\n",
       "      <td>MUIRU, Ruaka, Kiambaa</td>\n",
       "      <td>13000.0</td>\n",
       "    </tr>\n",
       "    <tr>\n",
       "      <th>19</th>\n",
       "      <td>Real Management Services 2002Limited</td>\n",
       "      <td>Sports Road, Waiyaki Way, Westlands</td>\n",
       "      <td>13000.0</td>\n",
       "    </tr>\n",
       "    <tr>\n",
       "      <th>...</th>\n",
       "      <td>...</td>\n",
       "      <td>...</td>\n",
       "      <td>...</td>\n",
       "    </tr>\n",
       "    <tr>\n",
       "      <th>34</th>\n",
       "      <td>Origin Homes</td>\n",
       "      <td>General Mathenge, Westlands</td>\n",
       "      <td>200000.0</td>\n",
       "    </tr>\n",
       "    <tr>\n",
       "      <th>94</th>\n",
       "      <td>Westside Real Estate</td>\n",
       "      <td>Muringa Road, Kilimani, Dagoretti North</td>\n",
       "      <td>200000.0</td>\n",
       "    </tr>\n",
       "    <tr>\n",
       "      <th>14</th>\n",
       "      <td>Yellow Market</td>\n",
       "      <td>Riverside Drive, Riverside, Westlands</td>\n",
       "      <td>220000.0</td>\n",
       "    </tr>\n",
       "    <tr>\n",
       "      <th>158</th>\n",
       "      <td>Serene Valley Apartments</td>\n",
       "      <td>Kiambere Road, Upper Hill, Langata</td>\n",
       "      <td>240000.0</td>\n",
       "    </tr>\n",
       "    <tr>\n",
       "      <th>64</th>\n",
       "      <td>Sema Estate Agents</td>\n",
       "      <td>Riverside, Westlands</td>\n",
       "      <td>280000.0</td>\n",
       "    </tr>\n",
       "  </tbody>\n",
       "</table>\n",
       "<p>1848 rows × 3 columns</p>\n",
       "</div>"
      ],
      "text/plain": [
       "                                   Agency  \\\n",
       "18                        Kitheka Musyoka   \n",
       "22                        Kitheka Musyoka   \n",
       "21                            Homekenya24   \n",
       "20                 Estate Masters Limited   \n",
       "19   Real Management Services 2002Limited   \n",
       "..                                    ...   \n",
       "34                           Origin Homes   \n",
       "94                   Westside Real Estate   \n",
       "14                          Yellow Market   \n",
       "158              Serene Valley Apartments   \n",
       "64                     Sema Estate Agents   \n",
       "\n",
       "                                         Neighborhood     Price  \n",
       "18          nyali road, nyali road, Nyali Area, Nyali   12000.0  \n",
       "22   fisharies, mtambo bamburi road, Bamburi, Kisauni   13000.0  \n",
       "21                                     Ruaka, Kiambaa   13000.0  \n",
       "20                              MUIRU, Ruaka, Kiambaa   13000.0  \n",
       "19                Sports Road, Waiyaki Way, Westlands   13000.0  \n",
       "..                                                ...       ...  \n",
       "34                        General Mathenge, Westlands  200000.0  \n",
       "94            Muringa Road, Kilimani, Dagoretti North  200000.0  \n",
       "14              Riverside Drive, Riverside, Westlands  220000.0  \n",
       "158                Kiambere Road, Upper Hill, Langata  240000.0  \n",
       "64                               Riverside, Westlands  280000.0  \n",
       "\n",
       "[1848 rows x 3 columns]"
      ]
     },
     "metadata": {},
     "execution_count": 9
    }
   ],
   "metadata": {}
  },
  {
   "cell_type": "markdown",
   "source": [
    "# sampling\n",
    "\n",
    "Sampling method to be used is K-Means clustering"
   ],
   "metadata": {}
  },
  {
   "cell_type": "code",
   "execution_count": 10,
   "source": [
    "# Importing K means module\n",
    "\n",
    "from sklearn.cluster import KMeans"
   ],
   "outputs": [],
   "metadata": {}
  },
  {
   "cell_type": "code",
   "execution_count": 11,
   "source": [
    "rent_prices = rent[['Price']]\n",
    "rent_prices"
   ],
   "outputs": [
    {
     "output_type": "execute_result",
     "data": {
      "text/html": [
       "<div>\n",
       "<style scoped>\n",
       "    .dataframe tbody tr th:only-of-type {\n",
       "        vertical-align: middle;\n",
       "    }\n",
       "\n",
       "    .dataframe tbody tr th {\n",
       "        vertical-align: top;\n",
       "    }\n",
       "\n",
       "    .dataframe thead th {\n",
       "        text-align: right;\n",
       "    }\n",
       "</style>\n",
       "<table border=\"1\" class=\"dataframe\">\n",
       "  <thead>\n",
       "    <tr style=\"text-align: right;\">\n",
       "      <th></th>\n",
       "      <th>Price</th>\n",
       "    </tr>\n",
       "  </thead>\n",
       "  <tbody>\n",
       "    <tr>\n",
       "      <th>18</th>\n",
       "      <td>12000.0</td>\n",
       "    </tr>\n",
       "    <tr>\n",
       "      <th>22</th>\n",
       "      <td>13000.0</td>\n",
       "    </tr>\n",
       "    <tr>\n",
       "      <th>21</th>\n",
       "      <td>13000.0</td>\n",
       "    </tr>\n",
       "    <tr>\n",
       "      <th>20</th>\n",
       "      <td>13000.0</td>\n",
       "    </tr>\n",
       "    <tr>\n",
       "      <th>19</th>\n",
       "      <td>13000.0</td>\n",
       "    </tr>\n",
       "    <tr>\n",
       "      <th>...</th>\n",
       "      <td>...</td>\n",
       "    </tr>\n",
       "    <tr>\n",
       "      <th>34</th>\n",
       "      <td>200000.0</td>\n",
       "    </tr>\n",
       "    <tr>\n",
       "      <th>94</th>\n",
       "      <td>200000.0</td>\n",
       "    </tr>\n",
       "    <tr>\n",
       "      <th>14</th>\n",
       "      <td>220000.0</td>\n",
       "    </tr>\n",
       "    <tr>\n",
       "      <th>158</th>\n",
       "      <td>240000.0</td>\n",
       "    </tr>\n",
       "    <tr>\n",
       "      <th>64</th>\n",
       "      <td>280000.0</td>\n",
       "    </tr>\n",
       "  </tbody>\n",
       "</table>\n",
       "<p>1848 rows × 1 columns</p>\n",
       "</div>"
      ],
      "text/plain": [
       "        Price\n",
       "18    12000.0\n",
       "22    13000.0\n",
       "21    13000.0\n",
       "20    13000.0\n",
       "19    13000.0\n",
       "..        ...\n",
       "34   200000.0\n",
       "94   200000.0\n",
       "14   220000.0\n",
       "158  240000.0\n",
       "64   280000.0\n",
       "\n",
       "[1848 rows x 1 columns]"
      ]
     },
     "metadata": {},
     "execution_count": 11
    }
   ],
   "metadata": {}
  },
  {
   "cell_type": "code",
   "execution_count": 12,
   "source": [
    "# specify number of clusters\n",
    "\n",
    "kmeans = KMeans(12)"
   ],
   "outputs": [],
   "metadata": {}
  },
  {
   "cell_type": "code",
   "execution_count": 13,
   "source": [
    "kmeans.fit(rent_prices)"
   ],
   "outputs": [
    {
     "output_type": "execute_result",
     "data": {
      "text/plain": [
       "KMeans(n_clusters=12)"
      ]
     },
     "metadata": {},
     "execution_count": 13
    }
   ],
   "metadata": {}
  },
  {
   "cell_type": "code",
   "execution_count": 14,
   "source": [
    "clustered_rent = kmeans.fit_predict(rent_prices)\n",
    "clustered_rent"
   ],
   "outputs": [
    {
     "output_type": "execute_result",
     "data": {
      "text/plain": [
       "array([ 4,  4,  4, ..., 10, 10, 10], dtype=int32)"
      ]
     },
     "metadata": {},
     "execution_count": 14
    }
   ],
   "metadata": {}
  },
  {
   "cell_type": "code",
   "execution_count": 15,
   "source": [
    "# new df with clusters\n",
    "new_rent = rent.copy()"
   ],
   "outputs": [],
   "metadata": {}
  },
  {
   "cell_type": "code",
   "execution_count": 16,
   "source": [
    "# add clusters\n",
    "new_rent['clusters'] = clustered_rent\n",
    "new_rent"
   ],
   "outputs": [
    {
     "output_type": "execute_result",
     "data": {
      "text/html": [
       "<div>\n",
       "<style scoped>\n",
       "    .dataframe tbody tr th:only-of-type {\n",
       "        vertical-align: middle;\n",
       "    }\n",
       "\n",
       "    .dataframe tbody tr th {\n",
       "        vertical-align: top;\n",
       "    }\n",
       "\n",
       "    .dataframe thead th {\n",
       "        text-align: right;\n",
       "    }\n",
       "</style>\n",
       "<table border=\"1\" class=\"dataframe\">\n",
       "  <thead>\n",
       "    <tr style=\"text-align: right;\">\n",
       "      <th></th>\n",
       "      <th>Agency</th>\n",
       "      <th>Neighborhood</th>\n",
       "      <th>Price</th>\n",
       "      <th>clusters</th>\n",
       "    </tr>\n",
       "  </thead>\n",
       "  <tbody>\n",
       "    <tr>\n",
       "      <th>18</th>\n",
       "      <td>Kitheka Musyoka</td>\n",
       "      <td>nyali road, nyali road, Nyali Area, Nyali</td>\n",
       "      <td>12000.0</td>\n",
       "      <td>4</td>\n",
       "    </tr>\n",
       "    <tr>\n",
       "      <th>22</th>\n",
       "      <td>Kitheka Musyoka</td>\n",
       "      <td>fisharies, mtambo bamburi road, Bamburi, Kisauni</td>\n",
       "      <td>13000.0</td>\n",
       "      <td>4</td>\n",
       "    </tr>\n",
       "    <tr>\n",
       "      <th>21</th>\n",
       "      <td>Homekenya24</td>\n",
       "      <td>Ruaka, Kiambaa</td>\n",
       "      <td>13000.0</td>\n",
       "      <td>4</td>\n",
       "    </tr>\n",
       "    <tr>\n",
       "      <th>20</th>\n",
       "      <td>Estate Masters Limited</td>\n",
       "      <td>MUIRU, Ruaka, Kiambaa</td>\n",
       "      <td>13000.0</td>\n",
       "      <td>4</td>\n",
       "    </tr>\n",
       "    <tr>\n",
       "      <th>19</th>\n",
       "      <td>Real Management Services 2002Limited</td>\n",
       "      <td>Sports Road, Waiyaki Way, Westlands</td>\n",
       "      <td>13000.0</td>\n",
       "      <td>4</td>\n",
       "    </tr>\n",
       "    <tr>\n",
       "      <th>...</th>\n",
       "      <td>...</td>\n",
       "      <td>...</td>\n",
       "      <td>...</td>\n",
       "      <td>...</td>\n",
       "    </tr>\n",
       "    <tr>\n",
       "      <th>34</th>\n",
       "      <td>Origin Homes</td>\n",
       "      <td>General Mathenge, Westlands</td>\n",
       "      <td>200000.0</td>\n",
       "      <td>6</td>\n",
       "    </tr>\n",
       "    <tr>\n",
       "      <th>94</th>\n",
       "      <td>Westside Real Estate</td>\n",
       "      <td>Muringa Road, Kilimani, Dagoretti North</td>\n",
       "      <td>200000.0</td>\n",
       "      <td>6</td>\n",
       "    </tr>\n",
       "    <tr>\n",
       "      <th>14</th>\n",
       "      <td>Yellow Market</td>\n",
       "      <td>Riverside Drive, Riverside, Westlands</td>\n",
       "      <td>220000.0</td>\n",
       "      <td>10</td>\n",
       "    </tr>\n",
       "    <tr>\n",
       "      <th>158</th>\n",
       "      <td>Serene Valley Apartments</td>\n",
       "      <td>Kiambere Road, Upper Hill, Langata</td>\n",
       "      <td>240000.0</td>\n",
       "      <td>10</td>\n",
       "    </tr>\n",
       "    <tr>\n",
       "      <th>64</th>\n",
       "      <td>Sema Estate Agents</td>\n",
       "      <td>Riverside, Westlands</td>\n",
       "      <td>280000.0</td>\n",
       "      <td>10</td>\n",
       "    </tr>\n",
       "  </tbody>\n",
       "</table>\n",
       "<p>1848 rows × 4 columns</p>\n",
       "</div>"
      ],
      "text/plain": [
       "                                   Agency  \\\n",
       "18                        Kitheka Musyoka   \n",
       "22                        Kitheka Musyoka   \n",
       "21                            Homekenya24   \n",
       "20                 Estate Masters Limited   \n",
       "19   Real Management Services 2002Limited   \n",
       "..                                    ...   \n",
       "34                           Origin Homes   \n",
       "94                   Westside Real Estate   \n",
       "14                          Yellow Market   \n",
       "158              Serene Valley Apartments   \n",
       "64                     Sema Estate Agents   \n",
       "\n",
       "                                         Neighborhood     Price  clusters  \n",
       "18          nyali road, nyali road, Nyali Area, Nyali   12000.0         4  \n",
       "22   fisharies, mtambo bamburi road, Bamburi, Kisauni   13000.0         4  \n",
       "21                                     Ruaka, Kiambaa   13000.0         4  \n",
       "20                              MUIRU, Ruaka, Kiambaa   13000.0         4  \n",
       "19                Sports Road, Waiyaki Way, Westlands   13000.0         4  \n",
       "..                                                ...       ...       ...  \n",
       "34                        General Mathenge, Westlands  200000.0         6  \n",
       "94            Muringa Road, Kilimani, Dagoretti North  200000.0         6  \n",
       "14              Riverside Drive, Riverside, Westlands  220000.0        10  \n",
       "158                Kiambere Road, Upper Hill, Langata  240000.0        10  \n",
       "64                               Riverside, Westlands  280000.0        10  \n",
       "\n",
       "[1848 rows x 4 columns]"
      ]
     },
     "metadata": {},
     "execution_count": 16
    }
   ],
   "metadata": {}
  },
  {
   "cell_type": "markdown",
   "source": [
    "# Analysis"
   ],
   "metadata": {}
  },
  {
   "cell_type": "code",
   "execution_count": 17,
   "source": [
    "# As there are no other numerical values, plotted the prices against respective clusters\n",
    "plt.scatter(new_rent['clusters'], new_rent['Price'], c=clustered_rent, cmap='rainbow')\n",
    "plt.show()"
   ],
   "outputs": [
    {
     "output_type": "display_data",
     "data": {
      "image/png": "[encoded data removed]",
      "text/plain": [
       "<Figure size 432x288 with 1 Axes>"
      ]
     },
     "metadata": {}
    }
   ],
   "metadata": {}
  },
  {
   "cell_type": "code",
   "execution_count": null,
   "source": [],
   "outputs": [],
   "metadata": {}
  },
  {
   "cell_type": "code",
   "execution_count": null,
   "source": [],
   "outputs": [],
   "metadata": {}
  }
 ],
 "metadata": {
  "orig_nbformat": 4,
  "language_info": {
   "name": "python",
   "version": "3.8.8",
   "mimetype": "text/x-python",
   "codemirror_mode": {
    "name": "ipython",
    "version": 3
   },
   "pygments_lexer": "ipython3",
   "nbconvert_exporter": "python",
   "file_extension": ".py"
  },
  "kernelspec": {
   "name": "python3",
   "display_name": "Python 3.8.8 64-bit ('base': conda)"
  },
  "interpreter": {
   "hash": "5e33e5004145b98e8222cb2d939e6df70ade89a40d2ac6741c844fb03b1308f9"
  }
 },
 "nbformat": 4,
 "nbformat_minor": 2
}